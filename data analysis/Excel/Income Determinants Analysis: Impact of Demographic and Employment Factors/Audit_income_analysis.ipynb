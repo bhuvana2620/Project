{
  "nbformat": 4,
  "nbformat_minor": 0,
  "metadata": {
    "colab": {
      "provenance": []
    },
    "kernelspec": {
      "name": "python3",
      "display_name": "Python 3"
    },
    "language_info": {
      "name": "python"
    }
  },
  "cells": [
    {
      "cell_type": "code",
      "execution_count": null,
      "metadata": {
        "colab": {
          "base_uri": "https://localhost:8080/"
        },
        "id": "TgUZG4ySufqX",
        "outputId": "9aae2fed-d96e-46ac-cbb9-0d42f654e35a"
      },
      "outputs": [
        {
          "output_type": "stream",
          "name": "stdout",
          "text": [
            "Requirement already satisfied: pandas in /usr/local/lib/python3.10/dist-packages (2.1.4)\n",
            "Requirement already satisfied: numpy<2,>=1.22.4 in /usr/local/lib/python3.10/dist-packages (from pandas) (1.26.4)\n",
            "Requirement already satisfied: python-dateutil>=2.8.2 in /usr/local/lib/python3.10/dist-packages (from pandas) (2.8.2)\n",
            "Requirement already satisfied: pytz>=2020.1 in /usr/local/lib/python3.10/dist-packages (from pandas) (2024.1)\n",
            "Requirement already satisfied: tzdata>=2022.1 in /usr/local/lib/python3.10/dist-packages (from pandas) (2024.1)\n",
            "Requirement already satisfied: six>=1.5 in /usr/local/lib/python3.10/dist-packages (from python-dateutil>=2.8.2->pandas) (1.16.0)\n"
          ]
        }
      ],
      "source": [
        "#Installing the pandas library\n",
        "# pandas is a powerful and flexible data analysis and manipulation library for Python.\n",
        "# It provides data structures and functions needed to work with structured data seamlessly.\n",
        "# This library will be used for data manipulation and analysis tasks in the project\n",
        "!pip install pandas"
      ]
    },
    {
      "cell_type": "code",
      "source": [
        "#Imported the CSV file, loading the data to the dataframe and view few rows of the data\n",
        "import pandas as pd\n",
        "df=pd.read_csv(\"adult_income_Analysis.csv\")\n",
        "print(df.head())"
      ],
      "metadata": {
        "colab": {
          "base_uri": "https://localhost:8080/"
        },
        "id": "ipb7bb83w7mX",
        "outputId": "46be5564-0172-483f-d2b2-0d59bff8e1d8"
      },
      "execution_count": null,
      "outputs": [
        {
          "output_type": "stream",
          "name": "stdout",
          "text": [
            "   age    workclass  fnlwgt    education  education.num marital.status  \\\n",
            "0   54      Private  140359      7th-8th              4       Divorced   \n",
            "1   34      Private  216864      HS-grad              9       Divorced   \n",
            "2   68  Federal-gov  422013      HS-grad              9       Divorced   \n",
            "3   45      Private  172274    Doctorate             16       Divorced   \n",
            "4   46      Private   45363  Prof-school             15       Divorced   \n",
            "\n",
            "          occupation   relationship   race     sex  capital.gain  \\\n",
            "0  Machine-op-inspct      Unmarried  White  Female             0   \n",
            "1      Other-service      Unmarried  White  Female             0   \n",
            "2     Prof-specialty  Not-in-family  White  Female             0   \n",
            "3     Prof-specialty      Unmarried  Black  Female             0   \n",
            "4     Prof-specialty  Not-in-family  White    Male             0   \n",
            "\n",
            "   capital.loss  hours.per.week native.country income  \n",
            "0          3900              40  United-States  <=50K  \n",
            "1          3770              45  United-States  <=50K  \n",
            "2          3683              40  United-States  <=50K  \n",
            "3          3004              35  United-States   >50K  \n",
            "4          2824              40  United-States   >50K  \n"
          ]
        }
      ]
    },
    {
      "cell_type": "code",
      "source": [
        "# Data Overview\n",
        "# The dataset contains information about individuals and their income.\n",
        "# Columns include:\n",
        "# - age: The age of the individual.\n",
        "# - workclass: The type of employment (e.g., Private, Federal-gov, etc.).\n",
        "# - fnlwgt: The final weight, a measure used by the census bureau for statistical purposes.\n",
        "# - education: The highest level of education attained.\n",
        "# - education.num: The numerical representation of the education level.\n",
        "# - marital.status: Marital status of the individual (e.g., Divorced, Never-married, etc.).\n",
        "# - occupation: The type of occupation (e.g., Machine-op-inspct, Prof-specialty, etc.).\n",
        "# - relationship: Relationship status (e.g., Unmarried, Not-in-family, etc.).\n",
        "# - race: The race of the individual (e.g., White, Black, etc).\n",
        "# - sex: Gender of the individual (e.g., Female, Male).\n",
        "# - capital.gain: Capital gains income.\n",
        "# - capital.loss: Capital losses.\n",
        "# - hours.per.week: Number of hours worked per week.\n",
        "# - native.country: Country of origin.\n",
        "# - income: Income bracket (<=50K or >50K).\n",
        "\n",
        "# Next Step: Checking for Duplicates\n",
        "# We need to verify if there are any duplicate rows in the dataset.\n",
        "# Duplicate entries can skew analysis results and should be identified and removed if necessary.\n",
        "# This step ensures the dataset's integrity before performing further analysis.\n",
        "\n",
        "# Check for duplicate rows\n",
        "duplicates = df.duplicated().sum()\n",
        "print(duplicates)"
      ],
      "metadata": {
        "colab": {
          "base_uri": "https://localhost:8080/"
        },
        "id": "0-k_7IeUxUFu",
        "outputId": "8351427d-9c91-4203-cecc-d81d5e08e84e"
      },
      "execution_count": null,
      "outputs": [
        {
          "output_type": "stream",
          "name": "stdout",
          "text": [
            "24\n"
          ]
        }
      ]
    },
    {
      "cell_type": "code",
      "source": [
        "# The dataset contains 24 duplicate rows. Let's examine these duplicate records to understand their content and impact on the analysis.\n",
        "duplicates_all_df = df[df.duplicated(keep=False)]\n",
        "\n",
        "# Sort the duplicate rows by all columns for better visibility\n",
        "duplicates_sorted_df = duplicates_all_df.sort_values(by=list(df.columns))\n",
        "\n",
        "# Display the sorted duplicate rows\n",
        "print(\"Duplicate rows in the dataset, sorted by all columns:\")\n",
        "print(duplicates_sorted_df)"
      ],
      "metadata": {
        "colab": {
          "base_uri": "https://localhost:8080/"
        },
        "id": "c5Ccla1ozh-L",
        "outputId": "aee24bf1-72ba-49f2-e456-5fec1ee371fd"
      },
      "execution_count": null,
      "outputs": [
        {
          "output_type": "stream",
          "name": "stdout",
          "text": [
            "Duplicate rows in the dataset, sorted by all columns:\n",
            "       age         workclass  fnlwgt     education  education.num  \\\n",
            "26025   19           Private   97261       HS-grad              9   \n",
            "26325   19           Private   97261       HS-grad              9   \n",
            "22760   19           Private  138153  Some-college             10   \n",
            "27123   19           Private  138153  Some-college             10   \n",
            "25262   19           Private  146679  Some-college             10   \n",
            "27176   19           Private  146679  Some-college             10   \n",
            "21800   19           Private  251579  Some-college             10   \n",
            "30389   19           Private  251579  Some-college             10   \n",
            "22407   20           Private  107658  Some-college             10   \n",
            "24169   20           Private  107658  Some-college             10   \n",
            "23091   21           Private  243368     Preschool              1   \n",
            "25221   21           Private  243368     Preschool              1   \n",
            "22084   21           Private  250051  Some-college             10   \n",
            "23433   21           Private  250051  Some-college             10   \n",
            "27065   23           Private  240137       5th-6th              3   \n",
            "28498   23           Private  240137       5th-6th              3   \n",
            "22416   25           Private  195994       1st-4th              2   \n",
            "24607   25           Private  195994       1st-4th              2   \n",
            "27434   25           Private  195994       1st-4th              2   \n",
            "21937   25           Private  308144     Bachelors             13   \n",
            "22121   25           Private  308144     Bachelors             13   \n",
            "22344   27           Private  255582       HS-grad              9   \n",
            "29212   27           Private  255582       HS-grad              9   \n",
            "23292   28           Private  274679       Masters             14   \n",
            "28632   28           Private  274679       Masters             14   \n",
            "25829   30           Private  144593       HS-grad              9   \n",
            "26275   30           Private  144593       HS-grad              9   \n",
            "2505    35           Private  379959       HS-grad              9   \n",
            "4416    35           Private  379959       HS-grad              9   \n",
            "9032    38           Private  207202       HS-grad              9   \n",
            "18148   38           Private  207202       HS-grad              9   \n",
            "16808   39           Private   30916       HS-grad              9   \n",
            "18026   39           Private   30916       HS-grad              9   \n",
            "11093   42           Private  204235  Some-college             10   \n",
            "17902   42           Private  204235  Some-college             10   \n",
            "26096   44           Private  367749     Bachelors             13   \n",
            "27451   44           Private  367749     Bachelors             13   \n",
            "1941    46           Private  133616  Some-college             10   \n",
            "4240    46           Private  133616  Some-college             10   \n",
            "13343   46           Private  173243       HS-grad              9   \n",
            "13624   46           Private  173243       HS-grad              9   \n",
            "10191   49           Private   31267       7th-8th              4   \n",
            "15420   49           Private   31267       7th-8th              4   \n",
            "9851    49  Self-emp-not-inc   43479  Some-college             10   \n",
            "15658   49  Self-emp-not-inc   43479  Some-college             10   \n",
            "21319   90           Private   52386  Some-college             10   \n",
            "22188   90           Private   52386  Some-college             10   \n",
            "\n",
            "           marital.status         occupation   relationship  \\\n",
            "26025       Never-married    Farming-fishing  Not-in-family   \n",
            "26325       Never-married    Farming-fishing  Not-in-family   \n",
            "22760       Never-married       Adm-clerical      Own-child   \n",
            "27123       Never-married       Adm-clerical      Own-child   \n",
            "25262       Never-married    Exec-managerial      Own-child   \n",
            "27176       Never-married    Exec-managerial      Own-child   \n",
            "21800       Never-married      Other-service      Own-child   \n",
            "30389       Never-married      Other-service      Own-child   \n",
            "22407       Never-married       Tech-support  Not-in-family   \n",
            "24169       Never-married       Tech-support  Not-in-family   \n",
            "23091       Never-married    Farming-fishing  Not-in-family   \n",
            "25221       Never-married    Farming-fishing  Not-in-family   \n",
            "22084       Never-married     Prof-specialty      Own-child   \n",
            "23433       Never-married     Prof-specialty      Own-child   \n",
            "27065       Never-married  Handlers-cleaners  Not-in-family   \n",
            "28498       Never-married  Handlers-cleaners  Not-in-family   \n",
            "22416       Never-married    Priv-house-serv  Not-in-family   \n",
            "24607       Never-married    Priv-house-serv  Not-in-family   \n",
            "27434       Never-married    Priv-house-serv  Not-in-family   \n",
            "21937       Never-married       Craft-repair  Not-in-family   \n",
            "22121       Never-married       Craft-repair  Not-in-family   \n",
            "22344       Never-married  Machine-op-inspct  Not-in-family   \n",
            "29212       Never-married  Machine-op-inspct  Not-in-family   \n",
            "23292       Never-married     Prof-specialty  Not-in-family   \n",
            "28632       Never-married     Prof-specialty  Not-in-family   \n",
            "25829       Never-married      Other-service  Not-in-family   \n",
            "26275       Never-married      Other-service  Not-in-family   \n",
            "2505             Divorced      Other-service  Not-in-family   \n",
            "4416             Divorced      Other-service  Not-in-family   \n",
            "9032   Married-civ-spouse  Machine-op-inspct        Husband   \n",
            "18148  Married-civ-spouse  Machine-op-inspct        Husband   \n",
            "16808  Married-civ-spouse       Craft-repair        Husband   \n",
            "18026  Married-civ-spouse       Craft-repair        Husband   \n",
            "11093  Married-civ-spouse     Prof-specialty        Husband   \n",
            "17902  Married-civ-spouse     Prof-specialty        Husband   \n",
            "26096       Never-married     Prof-specialty  Not-in-family   \n",
            "27451       Never-married     Prof-specialty  Not-in-family   \n",
            "1941             Divorced       Adm-clerical      Unmarried   \n",
            "4240             Divorced       Adm-clerical      Unmarried   \n",
            "13343  Married-civ-spouse       Craft-repair        Husband   \n",
            "13624  Married-civ-spouse       Craft-repair        Husband   \n",
            "10191  Married-civ-spouse       Craft-repair        Husband   \n",
            "15420  Married-civ-spouse       Craft-repair        Husband   \n",
            "9851   Married-civ-spouse       Craft-repair        Husband   \n",
            "15658  Married-civ-spouse       Craft-repair        Husband   \n",
            "21319       Never-married      Other-service  Not-in-family   \n",
            "22188       Never-married      Other-service  Not-in-family   \n",
            "\n",
            "                     race     sex  capital.gain  capital.loss  hours.per.week  \\\n",
            "26025               White    Male             0             0              40   \n",
            "26325               White    Male             0             0              40   \n",
            "22760               White  Female             0             0              10   \n",
            "27123               White  Female             0             0              10   \n",
            "25262               Black    Male             0             0              30   \n",
            "27176               Black    Male             0             0              30   \n",
            "21800               White    Male             0             0              14   \n",
            "30389               White    Male             0             0              14   \n",
            "22407               White  Female             0             0              10   \n",
            "24169               White  Female             0             0              10   \n",
            "23091               White    Male             0             0              50   \n",
            "25221               White    Male             0             0              50   \n",
            "22084               White  Female             0             0              10   \n",
            "23433               White  Female             0             0              10   \n",
            "27065               White    Male             0             0              55   \n",
            "28498               White    Male             0             0              55   \n",
            "22416               White  Female             0             0              40   \n",
            "24607               White  Female             0             0              40   \n",
            "27434               White  Female             0             0              40   \n",
            "21937               White    Male             0             0              40   \n",
            "22121               White    Male             0             0              40   \n",
            "22344               White  Female             0             0              40   \n",
            "29212               White  Female             0             0              40   \n",
            "23292               White    Male             0             0              50   \n",
            "28632               White    Male             0             0              50   \n",
            "25829               Black    Male             0             0              40   \n",
            "26275               Black    Male             0             0              40   \n",
            "2505                White  Female             0             0              40   \n",
            "4416                White  Female             0             0              40   \n",
            "9032                White    Male             0             0              48   \n",
            "18148               White    Male             0             0              48   \n",
            "16808               White    Male             0             0              40   \n",
            "18026               White    Male             0             0              40   \n",
            "11093               White    Male             0             0              40   \n",
            "17902               White    Male             0             0              40   \n",
            "26096               White  Female             0             0              45   \n",
            "27451               White  Female             0             0              45   \n",
            "1941                White  Female             0             0              40   \n",
            "4240                White  Female             0             0              40   \n",
            "13343               White    Male             0             0              40   \n",
            "13624               White    Male             0             0              40   \n",
            "10191               White    Male             0             0              40   \n",
            "15420               White    Male             0             0              40   \n",
            "9851                White    Male             0             0              40   \n",
            "15658               White    Male             0             0              40   \n",
            "21319  Asian-Pac-Islander    Male             0             0              35   \n",
            "22188  Asian-Pac-Islander    Male             0             0              35   \n",
            "\n",
            "      native.country income  \n",
            "26025  United-States  <=50K  \n",
            "26325  United-States  <=50K  \n",
            "22760  United-States  <=50K  \n",
            "27123  United-States  <=50K  \n",
            "25262  United-States  <=50K  \n",
            "27176  United-States  <=50K  \n",
            "21800  United-States  <=50K  \n",
            "30389  United-States  <=50K  \n",
            "22407  United-States  <=50K  \n",
            "24169  United-States  <=50K  \n",
            "23091         Mexico  <=50K  \n",
            "25221         Mexico  <=50K  \n",
            "22084  United-States  <=50K  \n",
            "23433  United-States  <=50K  \n",
            "27065         Mexico  <=50K  \n",
            "28498         Mexico  <=50K  \n",
            "22416      Guatemala  <=50K  \n",
            "24607      Guatemala  <=50K  \n",
            "27434      Guatemala  <=50K  \n",
            "21937         Mexico  <=50K  \n",
            "22121         Mexico  <=50K  \n",
            "22344  United-States  <=50K  \n",
            "29212  United-States  <=50K  \n",
            "23292  United-States  <=50K  \n",
            "28632  United-States  <=50K  \n",
            "25829              ?  <=50K  \n",
            "26275              ?  <=50K  \n",
            "2505   United-States  <=50K  \n",
            "4416   United-States  <=50K  \n",
            "9032   United-States   >50K  \n",
            "18148  United-States   >50K  \n",
            "16808  United-States  <=50K  \n",
            "18026  United-States  <=50K  \n",
            "11093  United-States   >50K  \n",
            "17902  United-States   >50K  \n",
            "26096         Mexico  <=50K  \n",
            "27451         Mexico  <=50K  \n",
            "1941   United-States  <=50K  \n",
            "4240   United-States  <=50K  \n",
            "13343  United-States  <=50K  \n",
            "13624  United-States  <=50K  \n",
            "10191  United-States  <=50K  \n",
            "15420  United-States  <=50K  \n",
            "9851   United-States  <=50K  \n",
            "15658  United-States  <=50K  \n",
            "21319  United-States  <=50K  \n",
            "22188  United-States  <=50K  \n"
          ]
        }
      ]
    },
    {
      "cell_type": "code",
      "source": [
        "# Remove duplicate rows from the dataset\n",
        "# This operation will retain the first occurrence of each duplicate and remove the rest.\n",
        "# The dataset will be updated to exclude these redundant rows.\n",
        "\n",
        "data_cleaned=df.drop_duplicates()\n",
        "#confirming the number of duplicate rows has been reduced to 0\n",
        "remaining_duplicates = data_cleaned.duplicated().sum()\n",
        "print(remaining_duplicates)\n",
        "print(data_cleaned.head())"
      ],
      "metadata": {
        "colab": {
          "base_uri": "https://localhost:8080/"
        },
        "id": "w9_600Fc0i0M",
        "outputId": "5de6b8f9-0f29-493c-ba0d-f82374da6481"
      },
      "execution_count": null,
      "outputs": [
        {
          "output_type": "stream",
          "name": "stdout",
          "text": [
            "0\n",
            "   age    workclass  fnlwgt    education  education.num marital.status  \\\n",
            "0   54      Private  140359      7th-8th              4       Divorced   \n",
            "1   34      Private  216864      HS-grad              9       Divorced   \n",
            "2   68  Federal-gov  422013      HS-grad              9       Divorced   \n",
            "3   45      Private  172274    Doctorate             16       Divorced   \n",
            "4   46      Private   45363  Prof-school             15       Divorced   \n",
            "\n",
            "          occupation   relationship   race     sex  capital.gain  \\\n",
            "0  Machine-op-inspct      Unmarried  White  Female             0   \n",
            "1      Other-service      Unmarried  White  Female             0   \n",
            "2     Prof-specialty  Not-in-family  White  Female             0   \n",
            "3     Prof-specialty      Unmarried  Black  Female             0   \n",
            "4     Prof-specialty  Not-in-family  White    Male             0   \n",
            "\n",
            "   capital.loss  hours.per.week native.country income  \n",
            "0          3900              40  United-States  <=50K  \n",
            "1          3770              45  United-States  <=50K  \n",
            "2          3683              40  United-States  <=50K  \n",
            "3          3004              35  United-States   >50K  \n",
            "4          2824              40  United-States   >50K  \n"
          ]
        }
      ]
    },
    {
      "cell_type": "code",
      "source": [
        "print(\"Column data types:\")\n",
        "print(data_cleaned.dtypes)"
      ],
      "metadata": {
        "colab": {
          "base_uri": "https://localhost:8080/"
        },
        "id": "MwrGGhXFgh2D",
        "outputId": "2b141c37-bfce-42f9-d995-b7a0c0771772"
      },
      "execution_count": null,
      "outputs": [
        {
          "output_type": "stream",
          "name": "stdout",
          "text": [
            "Column data types:\n",
            "age                int64\n",
            "workclass         object\n",
            "fnlwgt             int64\n",
            "education         object\n",
            "education.num      int64\n",
            "marital.status    object\n",
            "occupation        object\n",
            "relationship      object\n",
            "race              object\n",
            "sex               object\n",
            "capital.gain       int64\n",
            "capital.loss       int64\n",
            "hours.per.week     int64\n",
            "native.country    object\n",
            "income            object\n",
            "dtype: object\n"
          ]
        }
      ]
    },
    {
      "cell_type": "code",
      "source": [
        "# Replaced all instances of '?' with 'Unknown' in the DataFrame to handle missing or ambiguous data\n",
        "df=data_cleaned.replace('?', 'Unknown')"
      ],
      "metadata": {
        "id": "7u9dPxMij-ko"
      },
      "execution_count": null,
      "outputs": []
    },
    {
      "cell_type": "code",
      "source": [
        "# Map each education level to a broader category and create a new column 'grouped_education_level'\n",
        "# This categorizes education levels into broader groups for easier analysis and interpretation\n",
        "education_mapping = {\n",
        "    '11th': 'High School',\n",
        "    'HS-grad': 'High School',\n",
        "    '10th': 'High School',\n",
        "    '9th': 'High School',\n",
        "    '12th': 'High School',\n",
        "    '7th-8th': 'Elementary/Middle School',\n",
        "    'Some-college': 'Some College',\n",
        "    '5th-6th': 'Elementary/Middle School',\n",
        "    'Masters': 'Master\\'s Degree',\n",
        "    'Bachelors': 'Bachelor\\'s Degree',\n",
        "    'Assoc-voc': 'Associate\\'s Degree',\n",
        "    'Assoc-acdm': 'Associate\\'s Degree',\n",
        "    'Preschool': 'Preschool',\n",
        "    '1st-4th': 'Elementary/Middle School',\n",
        "    'Doctorate': 'Doctorate',\n",
        "    'Prof-school': 'Professional School'\n",
        "}\n",
        "\n",
        "df['grouped_education_level'] = df['education'].map(education_mapping)"
      ],
      "metadata": {
        "id": "OmXMKZniuYGf"
      },
      "execution_count": null,
      "outputs": []
    },
    {
      "cell_type": "code",
      "source": [
        "print(df.columns)"
      ],
      "metadata": {
        "colab": {
          "base_uri": "https://localhost:8080/"
        },
        "id": "1Vs_TUTwvoaP",
        "outputId": "559193ac-86b8-4113-c89a-6a274b1d2955"
      },
      "execution_count": null,
      "outputs": [
        {
          "output_type": "stream",
          "name": "stdout",
          "text": [
            "Index(['age', 'workclass', 'fnlwgt', 'education', 'education.num',\n",
            "       'marital.status', 'occupation', 'relationship', 'race', 'sex',\n",
            "       'capital.gain', 'capital.loss', 'hours.per.week', 'native.country',\n",
            "       'income', 'grouped_education_level'],\n",
            "      dtype='object')\n"
          ]
        }
      ]
    },
    {
      "cell_type": "code",
      "source": [
        "# Checked the DataFrame to determine if any '?' values are still present.\n",
        "\n",
        "contains_question_marks = (df == '?').any().any()\n",
        "print(contains_question_marks)"
      ],
      "metadata": {
        "colab": {
          "base_uri": "https://localhost:8080/"
        },
        "id": "Gpyqtv1OxBCM",
        "outputId": "bb748206-0962-41a9-8111-a4b9e4339ccb"
      },
      "execution_count": null,
      "outputs": [
        {
          "output_type": "stream",
          "name": "stdout",
          "text": [
            "False\n"
          ]
        }
      ]
    },
    {
      "cell_type": "code",
      "source": [
        "# Replaced hyphens ('-') with spaces (' ') in the 'native.country' column\n",
        "# to ensure proper formatting of country names, e.g., 'United-States' becomes 'United States'\n",
        "df['native.country'] = df['native.country'].str.replace('-', ' ', regex=False)\n",
        "\n",
        "# Verify the replacement\n",
        "print(df['native.country'].unique())"
      ],
      "metadata": {
        "colab": {
          "base_uri": "https://localhost:8080/"
        },
        "id": "ulpT55E5zwop",
        "outputId": "becd00a6-b4f2-4f31-ace3-fd4a58c77bac"
      },
      "execution_count": null,
      "outputs": [
        {
          "output_type": "stream",
          "name": "stdout",
          "text": [
            "['United States' 'Canada' 'India' 'Philippines' 'Unknown' 'Japan' 'Iran'\n",
            " 'Mexico' 'Cuba' 'England' 'Puerto Rico' 'Germany' 'Ireland' 'France'\n",
            " 'Honduras' 'Portugal' 'China' 'Italy' 'Scotland' 'Nicaragua' 'Greece'\n",
            " 'Peru' 'Ecuador' 'Dominican Republic' 'Poland' 'Haiti' 'Guatemala'\n",
            " 'South' 'Thailand' 'Jamaica' 'El Salvador' 'Vietnam' 'Trinadad&Tobago'\n",
            " 'Columbia' 'Hungary' 'Outlying US(Guam USVI etc)' 'Yugoslavia' 'Taiwan'\n",
            " 'Hong' 'Cambodia' 'Laos' 'Holand Netherlands']\n"
          ]
        }
      ]
    },
    {
      "cell_type": "code",
      "source": [
        "df.to_csv('adult_income_Analysis_after_cleaning.csv', index=False)"
      ],
      "metadata": {
        "id": "maE8Hib75aJx"
      },
      "execution_count": null,
      "outputs": []
    },
    {
      "cell_type": "markdown",
      "source": [],
      "metadata": {
        "id": "wubcDxtUwQ06"
      }
    }
  ]
}